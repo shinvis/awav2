{
 "cells": [
  {
   "cell_type": "code",
   "execution_count": 1,
   "id": "659f2fe4-d3b7-4f8a-bb47-8967adae9b0e",
   "metadata": {},
   "outputs": [
    {
     "name": "stdin",
     "output_type": "stream",
     "text": [
      "enter the first number 20\n",
      "enter the second number 90\n"
     ]
    },
    {
     "name": "stdout",
     "output_type": "stream",
     "text": [
      "Addition 110\n",
      "Subtraction 70\n",
      "Multiplication 1800\n",
      "Division 0.2222222222222222\n",
      "Conversion to string : <class 'str'>\n"
     ]
    }
   ],
   "source": [
    "a1=int(input(\"enter the first number\"))\n",
    "b2=int(input('enter the second number'))\n",
    "print(\"Addition\",a1+b2)\n",
    "print(\"Subtraction\",b2-a1)\n",
    "print(\"Multiplication\",a1*b2)\n",
    "if b2 != 0:\n",
    "    print(\"Division\", a1 / b2)\n",
    "else:\n",
    "    print(\"Division by zero is not allowed.\")\n",
    "print(\"Conversion to string :\",type(str(a1+b2)))"
   ]
  },
  {
   "cell_type": "code",
   "execution_count": null,
   "id": "fd163d52-0189-404a-a16d-62e2269f7568",
   "metadata": {},
   "outputs": [],
   "source": []
  }
 ],
 "metadata": {
  "kernelspec": {
   "display_name": "Python 3 (ipykernel)",
   "language": "python",
   "name": "python3"
  },
  "language_info": {
   "codemirror_mode": {
    "name": "ipython",
    "version": 3
   },
   "file_extension": ".py",
   "mimetype": "text/x-python",
   "name": "python",
   "nbconvert_exporter": "python",
   "pygments_lexer": "ipython3",
   "version": "3.12.4"
  }
 },
 "nbformat": 4,
 "nbformat_minor": 5
}
